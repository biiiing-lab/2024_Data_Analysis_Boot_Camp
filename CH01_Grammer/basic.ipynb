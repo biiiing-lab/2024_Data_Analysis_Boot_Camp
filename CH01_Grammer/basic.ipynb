{
 "cells": [
  {
   "cell_type": "code",
   "execution_count": 2,
   "metadata": {},
   "outputs": [
    {
     "name": "stdout",
     "output_type": "stream",
     "text": [
      "name\n",
      "20\n"
     ]
    }
   ],
   "source": [
    "name = input('이름 입력: ')\n",
    "print(name)\n",
    "\n",
    "age = int(input('나이 입력: '))\n",
    "print(age)"
   ]
  },
  {
   "cell_type": "code",
   "execution_count": 3,
   "metadata": {},
   "outputs": [
    {
     "name": "stdout",
     "output_type": "stream",
     "text": [
      "이름은 test\n"
     ]
    }
   ],
   "source": [
    "name = 'test'\n",
    "print('이름은 %s' %name)"
   ]
  },
  {
   "cell_type": "code",
   "execution_count": 4,
   "metadata": {},
   "outputs": [
    {
     "name": "stdout",
     "output_type": "stream",
     "text": [
      "10 * 20 = 200\n"
     ]
    }
   ],
   "source": [
    "a = 10\n",
    "b = 20\n",
    "\n",
    "print('{0} * {1} = {2}'.format(a, b, a * b))"
   ]
  },
  {
   "cell_type": "code",
   "execution_count": 5,
   "metadata": {},
   "outputs": [
    {
     "name": "stdout",
     "output_type": "stream",
     "text": [
      "[1, 2, 3, 4, 5] ['hello', 'world'] [1, 2, 'hello', ['hello', 'world']]\n"
     ]
    }
   ],
   "source": [
    "a = [1, 2, 3, 4, 5]\n",
    "b = ['hello', 'world']\n",
    "c = [1, 2, 'hello', ['hello', 'world']]\n",
    "\n",
    "print(a, b, c)"
   ]
  },
  {
   "cell_type": "code",
   "execution_count": 8,
   "metadata": {},
   "outputs": [
    {
     "name": "stdout",
     "output_type": "stream",
     "text": [
      "[30, 20, 10]\n",
      "[30, 100, 90]\n",
      "[100, 100, 90]\n"
     ]
    }
   ],
   "source": [
    "a = [30, 20, 10]\n",
    "print(a)\n",
    "\n",
    "a[1:3] = [100, 90]\n",
    "print(a)\n",
    "\n",
    "a[0] = 100\n",
    "print(a)"
   ]
  },
  {
   "cell_type": "code",
   "execution_count": 13,
   "metadata": {},
   "outputs": [
    {
     "name": "stdout",
     "output_type": "stream",
     "text": [
      "()\n",
      "(3, 2, 1)\n",
      "(0, 1, 2, 3, 4, 5, 6, 7, 8, 9)\n",
      "(40, 30, (20, 10))\n",
      "['월', '화', '수', '목', '금', '토', '일']\n",
      "('월', '화', '수', '목', '금', '토', '일')\n"
     ]
    }
   ],
   "source": [
    "a = ()\n",
    "print(a)\n",
    "\n",
    "a = (3, 2, 1)\n",
    "print(a)\n",
    "\n",
    "a = tuple(range(10))\n",
    "print(a)\n",
    "\n",
    "a = (40, 30, (20, 10))\n",
    "print(a)\n",
    "\n",
    "a = ['월', '화', '수','목', '금', '토','일']\n",
    "print(a)\n",
    "\n",
    "a = tuple(a)\n",
    "print(a)\n"
   ]
  },
  {
   "cell_type": "code",
   "execution_count": 20,
   "metadata": {},
   "outputs": [
    {
     "name": "stdout",
     "output_type": "stream",
     "text": [
      "{1: '호두', 2: '땅콩'}\n",
      "호두\n",
      "{'라면': 5000, '김밥': 3500}\n",
      "3500\n"
     ]
    }
   ],
   "source": [
    "fruit = {1 : '호두', 2 : '땅콩'}\n",
    "print(fruit)\n",
    "print(fruit[1])\n",
    "\n",
    "menu = {'라면' : 5000, '김밥' : 3500}\n",
    "print(menu)\n",
    "print(menu['김밥'])"
   ]
  },
  {
   "cell_type": "code",
   "execution_count": null,
   "metadata": {},
   "outputs": [
    {
     "name": "stdout",
     "output_type": "stream",
     "text": [
      "{20}\n",
      "{20, 40, 10, 30}\n",
      "{10, 30}\n"
     ]
    }
   ],
   "source": [
    "A = {30, 20, 10}\n",
    "B = {40, 20}\n",
    "\n",
    "print(A.intersection(B)) # 교집합\n",
    "print(A.union(B)) # 합집합\n",
    "print(A.difference(B)) # 차집합"
   ]
  },
  {
   "cell_type": "code",
   "execution_count": null,
   "metadata": {},
   "outputs": [
    {
     "name": "stdout",
     "output_type": "stream",
     "text": [
      "[-40, -20, 0, 20, 40]\n",
      "[-35, -15, 5, 25, 45]\n"
     ]
    }
   ],
   "source": [
    "list1 = [-40, -20, 0, 20, 40]\n",
    "print([x for x in list1])\n",
    "print([x+5 for x in list1]) # 연산 가능"
   ]
  }
 ],
 "metadata": {
  "kernelspec": {
   "display_name": "Python 3",
   "language": "python",
   "name": "python3"
  },
  "language_info": {
   "codemirror_mode": {
    "name": "ipython",
    "version": 3
   },
   "file_extension": ".py",
   "mimetype": "text/x-python",
   "name": "python",
   "nbconvert_exporter": "python",
   "pygments_lexer": "ipython3",
   "version": "3.12.6"
  }
 },
 "nbformat": 4,
 "nbformat_minor": 2
}
