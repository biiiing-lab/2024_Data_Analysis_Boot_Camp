{
 "cells": [
  {
   "cell_type": "code",
   "execution_count": 1,
   "metadata": {},
   "outputs": [
    {
     "name": "stdout",
     "output_type": "stream",
     "text": [
      "up\n",
      "up\n",
      "up\n",
      "up\n",
      "up\n",
      "up\n",
      "up\n",
      "up\n",
      "정답\n"
     ]
    }
   ],
   "source": [
    "# 5\n",
    "import random\n",
    "com = random.randint(1, 30)\n",
    "while True : \n",
    "    player = int(input(\"숫자 입력(종료 0): \"))\n",
    "    if player == 0 :\n",
    "        break\n",
    "    elif player == com :\n",
    "        print(\"정답\")\n",
    "        break\n",
    "    elif player > com :\n",
    "        print(\"down\")\n",
    "    elif player < com :\n",
    "        print(\"up\")"
   ]
  }
 ],
 "metadata": {
  "kernelspec": {
   "display_name": "Python 3",
   "language": "python",
   "name": "python3"
  },
  "language_info": {
   "codemirror_mode": {
    "name": "ipython",
    "version": 3
   },
   "file_extension": ".py",
   "mimetype": "text/x-python",
   "name": "python",
   "nbconvert_exporter": "python",
   "pygments_lexer": "ipython3",
   "version": "3.12.6"
  }
 },
 "nbformat": 4,
 "nbformat_minor": 2
}
