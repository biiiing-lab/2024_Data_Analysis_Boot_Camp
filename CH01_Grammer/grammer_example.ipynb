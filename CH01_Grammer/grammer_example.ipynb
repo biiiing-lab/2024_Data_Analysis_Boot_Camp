{
 "cells": [
  {
   "cell_type": "code",
   "execution_count": 1,
   "metadata": {},
   "outputs": [
    {
     "name": "stdout",
     "output_type": "stream",
     "text": [
      "up\n",
      "up\n",
      "up\n",
      "up\n",
      "up\n",
      "up\n",
      "up\n",
      "up\n",
      "정답\n"
     ]
    }
   ],
   "source": [
    "# 5\n",
    "import random\n",
    "com = random.randint(1, 30)\n",
    "while True : \n",
    "    player = int(input(\"숫자 입력(종료 0): \"))\n",
    "    if player == 0 :\n",
    "        break\n",
    "    elif player == com :\n",
    "        print(\"정답\")\n",
    "        break\n",
    "    elif player > com :\n",
    "        print(\"down\")\n",
    "    elif player < com :\n",
    "        print(\"up\")"
   ]
  },
  {
   "cell_type": "code",
   "execution_count": 10,
   "metadata": {},
   "outputs": [
    {
     "name": "stdout",
     "output_type": "stream",
     "text": [
      "<< 생성된 로또 번호 >>\n",
      "45 44 2 40 27 23 "
     ]
    }
   ],
   "source": [
    "# 6\n",
    "import random\n",
    "lotto = []\n",
    "\n",
    "while True :\n",
    "    num = random.randint(1, 45)\n",
    "\n",
    "    if num not in lotto :\n",
    "        lotto.append(num)\n",
    "    \n",
    "    if len(lotto) == 6 :\n",
    "        break\n",
    "\n",
    "print(\"<< 생성된 로또 번호 >>\")\n",
    "\n",
    "for x in lotto :\n",
    "    print(x, end=' ')"
   ]
  },
  {
   "cell_type": "code",
   "execution_count": 24,
   "metadata": {},
   "outputs": [
    {
     "name": "stdout",
     "output_type": "stream",
     "text": [
      "7월 평균 기온은 33.0입니다.\n",
      "8월 평균 기온은 40.5입니다.\n",
      "9월 평균 기온은 30.8입니다.\n",
      "10월 평균 기온은 22.6입니다.\n",
      "11월 평균 기온은 14.2입니다.\n",
      "12월 평균 기온은 2.5입니다.\n"
     ]
    }
   ],
   "source": [
    "# 12\n",
    "f = open('file/weather.txt', encoding='cp949')\n",
    "\n",
    "while True :\n",
    "    line = f.readline()\n",
    "    if not line :\n",
    "        break\n",
    "    month, low, high = line.split(',') # ,로 나누기\n",
    "\n",
    "    avgtemp = float(low) + float(high) / 2\n",
    "    print(f'{month}월 평균 기온은 {avgtemp:.1f}입니다.')\n",
    "\n",
    "f.close()"
   ]
  }
 ],
 "metadata": {
  "kernelspec": {
   "display_name": "Python 3",
   "language": "python",
   "name": "python3"
  },
  "language_info": {
   "codemirror_mode": {
    "name": "ipython",
    "version": 3
   },
   "file_extension": ".py",
   "mimetype": "text/x-python",
   "name": "python",
   "nbconvert_exporter": "python",
   "pygments_lexer": "ipython3",
   "version": "3.12.6"
  }
 },
 "nbformat": 4,
 "nbformat_minor": 2
}
