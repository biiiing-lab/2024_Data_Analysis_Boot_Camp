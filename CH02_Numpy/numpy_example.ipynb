{
 "cells": [
  {
   "cell_type": "code",
   "execution_count": 2,
   "metadata": {},
   "outputs": [],
   "source": [
    "import numpy as np"
   ]
  },
  {
   "cell_type": "code",
   "execution_count": 5,
   "metadata": {},
   "outputs": [
    {
     "name": "stdout",
     "output_type": "stream",
     "text": [
      "20\n",
      "210\n",
      "10.5\n",
      "[[ 1  2  3  4]\n",
      " [ 5  6  7  8]\n",
      " [ 9 10 11 12]\n",
      " [13 14 15 16]\n",
      " [17 18 19 20]]\n"
     ]
    }
   ],
   "source": [
    "# 3\n",
    "arr = np.arange(1,21)\n",
    "print(arr[-1])\n",
    "print(arr.sum())\n",
    "print(arr.mean()) # 평균\n",
    "\n",
    "new_arr = arr.reshape(5, 4)\n",
    "print(new_arr)"
   ]
  },
  {
   "cell_type": "code",
   "execution_count": 6,
   "metadata": {},
   "outputs": [
    {
     "name": "stdout",
     "output_type": "stream",
     "text": [
      "인상 금액:  [300. 225. 270. 330. 375.]\n",
      "평균 금액:  300.0\n",
      "평균 이상 원소:  [300. 330. 375.]\n",
      "평균 이상인 원소 갯수:  [300. 225. 270. 330. 375.]\n"
     ]
    }
   ],
   "source": [
    "# 4\n",
    "salary = [200, 150, 180, 220, 250]\n",
    "new_salary = np.array(salary, dtype = 'float64' ) * 1.5\n",
    "print('인상 금액: ', new_salary)\n",
    "avg_salary = np.mean(new_salary)\n",
    "print('평균 금액: ', avg_salary)\n",
    "result = new_salary >= avg_salary\n",
    "print('평균 이상 원소: ', new_salary[result])\n",
    "print('평균 이상인 원소 갯수: ', new_salary)"
   ]
  }
 ],
 "metadata": {
  "kernelspec": {
   "display_name": "Python 3",
   "language": "python",
   "name": "python3"
  },
  "language_info": {
   "codemirror_mode": {
    "name": "ipython",
    "version": 3
   },
   "file_extension": ".py",
   "mimetype": "text/x-python",
   "name": "python",
   "nbconvert_exporter": "python",
   "pygments_lexer": "ipython3",
   "version": "3.12.6"
  }
 },
 "nbformat": 4,
 "nbformat_minor": 2
}
