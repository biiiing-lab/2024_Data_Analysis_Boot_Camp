{
 "cells": [
  {
   "cell_type": "code",
   "execution_count": 5,
   "metadata": {},
   "outputs": [],
   "source": [
    "import numpy as np"
   ]
  },
  {
   "cell_type": "code",
   "execution_count": 11,
   "metadata": {},
   "outputs": [
    {
     "name": "stdout",
     "output_type": "stream",
     "text": [
      "[ 1  2  3  4  5  6  7  8  9 10]\n",
      "ndim: 1\n",
      "(10,)\n",
      "int64\n",
      "size: 10\n"
     ]
    }
   ],
   "source": [
    "# 1\n",
    "arr = np.arange(1, 11)\n",
    "print(arr)\n",
    "print('ndim:', arr.ndim)\n",
    "print(arr.shape)\n",
    "print(arr.dtype)\n",
    "print('size:', np.size(arr))"
   ]
  },
  {
   "cell_type": "code",
   "execution_count": null,
   "metadata": {},
   "outputs": [],
   "source": [
    "# 2-1"
   ]
  },
  {
   "cell_type": "code",
   "execution_count": null,
   "metadata": {},
   "outputs": [
    {
     "name": "stdout",
     "output_type": "stream",
     "text": [
      "[[0.25921277 0.10343823 0.48688625 0.73949384 0.39863397 0.23307442\n",
      "  0.07639862 0.76163903 0.43041134 0.4265623 ]]\n",
      "0.7616390263778101\n",
      "0.07639861690947014\n"
     ]
    }
   ],
   "source": [
    "\n",
    "# 2-2\n",
    "randomNum = np.random.random((1, 10))\n",
    "print(randomNum)\n",
    "\n",
    "maxValue = randomNum.max()\n",
    "minValue = randomNum.min()\n",
    "\n",
    "print(maxValue)\n",
    "print(minValue)"
   ]
  },
  {
   "cell_type": "code",
   "execution_count": 21,
   "metadata": {},
   "outputs": [
    {
     "name": "stdout",
     "output_type": "stream",
     "text": [
      "[[0 1 2]\n",
      " [3 4 5]\n",
      " [6 7 8]]\n"
     ]
    }
   ],
   "source": [
    "# 2-3 \n",
    "arr = np.array([[0, 1, 2], [3, 4, 5], [6, 7, 8]])\n",
    "print(arr)"
   ]
  },
  {
   "cell_type": "code",
   "execution_count": null,
   "metadata": {},
   "outputs": [
    {
     "name": "stdout",
     "output_type": "stream",
     "text": [
      "[[ 1  2  3  4  5  6]\n",
      " [ 7  8  9 10 11 12]\n",
      " [13 14 15 16 17 18]\n",
      " [19 20 21 22 23 24]]\n",
      "[[ 8  9 10 11]\n",
      " [14 15 16 17]]\n",
      "[[18 17 16 15 14 13]\n",
      " [24 23 22 21 20 19]]\n"
     ]
    }
   ],
   "source": [
    "# 2-4\n",
    "arrShape = np.arange(1, 25).reshape((4, 6))\n",
    "print(arr)\n",
    "\n",
    "# 2-5\n",
    "print(arrShape[1:3, 1:5])\n",
    "\n",
    "# 2-6\n",
    "print(arrShape[2:, ::-1])\n",
    "\n"
   ]
  },
  {
   "cell_type": "code",
   "execution_count": null,
   "metadata": {},
   "outputs": [
    {
     "ename": "NameError",
     "evalue": "name 'arrShape' is not defined",
     "output_type": "error",
     "traceback": [
      "\u001b[1;31m---------------------------------------------------------------------------\u001b[0m",
      "\u001b[1;31mNameError\u001b[0m                                 Traceback (most recent call last)",
      "Cell \u001b[1;32mIn[25], line 2\u001b[0m\n\u001b[0;32m      1\u001b[0m \u001b[38;5;66;03m# 2-5\u001b[39;00m\n\u001b[1;32m----> 2\u001b[0m \u001b[38;5;28mprint\u001b[39m(\u001b[43marrShape\u001b[49m[\u001b[38;5;241m1\u001b[39m:\u001b[38;5;241m3\u001b[39m, \u001b[38;5;241m1\u001b[39m:\u001b[38;5;241m5\u001b[39m])\n",
      "\u001b[1;31mNameError\u001b[0m: name 'arrShape' is not defined"
     ]
    }
   ],
   "source": []
  }
 ],
 "metadata": {
  "kernelspec": {
   "display_name": "Python 3",
   "language": "python",
   "name": "python3"
  },
  "language_info": {
   "codemirror_mode": {
    "name": "ipython",
    "version": 3
   },
   "file_extension": ".py",
   "mimetype": "text/x-python",
   "name": "python",
   "nbconvert_exporter": "python",
   "pygments_lexer": "ipython3",
   "version": "3.12.6"
  }
 },
 "nbformat": 4,
 "nbformat_minor": 2
}
